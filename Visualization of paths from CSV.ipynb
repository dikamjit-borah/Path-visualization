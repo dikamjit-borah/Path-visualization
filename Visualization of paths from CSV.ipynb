{
 "cells": [
  {
   "cell_type": "code",
   "execution_count": 2,
   "metadata": {},
   "outputs": [],
   "source": [
    "import pandas as pd\n",
    "import csv\n",
    "import matplotlib.pyplot as plt"
   ]
  },
  {
   "cell_type": "code",
   "execution_count": 2,
   "metadata": {},
   "outputs": [],
   "source": [
    "dataFile = pd.read_csv('Node_Coordinates.csv')"
   ]
  },
  {
   "cell_type": "code",
   "execution_count": 3,
   "metadata": {},
   "outputs": [],
   "source": [
    "dataFile = pd.read_csv('Node_Coordinates.csv')\n",
    "x_coor = [] \n",
    "y_coor = []\n",
    "for i in range(len(dataFile)):\n",
    "    x_coor.append(dataFile.loc[i, 'x_Coordinate'])\n",
    "for i in range(len(dataFile)):\n",
    "    y_coor.append(dataFile.loc[i, 'y_Coordinate'])"
   ]
  },
  {
   "cell_type": "code",
   "execution_count": null,
   "metadata": {},
   "outputs": [],
   "source": []
  },
  {
   "cell_type": "code",
   "execution_count": 3,
   "metadata": {},
   "outputs": [],
   "source": [
    "def drawPath(pathFile, xx, yy):\n",
    "    for i in range(len(x_coor)):\n",
    "   # plt.plot(x_coor[i], y_coor[i], data=df, linestyle='-', color='blue', marker='^')\n",
    "        plt.scatter(x_coor[i], y_coor[i], color='blue', marker='o')\n",
    "        plt.text(x_coor[i], y_coor[i], i+1, fontsize=9)\n",
    "    #for i in range(len(users_X)):    \n",
    "    #plt.scatter(users_X[i], users_Y[i], color='orange', marker='s')\n",
    "        plt.scatter(xx, yy, color='red', marker='o')\n",
    "\n",
    "\n",
    "#     plt.scatter(95, 58, color='orange', marker='o')\n",
    "#     plt.scatter(90, 95, color='orange', marker='o')\n",
    "#     plt.scatter(25, 15, color='orange', marker='o')\n",
    "#     plt.scatter(5,42, color='orange', marker='o')\n",
    "\n",
    "    plt.ylabel('Y-AXIS')\n",
    "    plt.xlabel('X-AXIS')\n",
    "\n",
    "    for i in range(len(pathFile)):\n",
    "        paths = pathFile['PATHS'][i]\n",
    "        paths = (paths.replace('[', ''))\n",
    "        paths = (paths.replace(']', ''))\n",
    "        paths = ((paths.split(', ')))\n",
    "    print(paths)\n",
    "    for i in range(len(paths) - 1):\n",
    "        \n",
    "        x1 = dataFile[dataFile['Node_Sl_No.']==int(paths[i])]['x_Coordinate']\n",
    "        xC1 = x1.values.tolist()\n",
    "        y1 = dataFile[dataFile['Node_Sl_No.']==int(paths[i])]['y_Coordinate']\n",
    "        yC1 = y1.values.tolist()\n",
    "        \n",
    "        x2 = dataFile[dataFile['Node_Sl_No.']==int(paths[i+1])]['x_Coordinate']\n",
    "        xC2 = x2.values.tolist()\n",
    "        y2 = dataFile[dataFile['Node_Sl_No.']==int(paths[i+1])]['y_Coordinate']\n",
    "        yC2 = y2.values.tolist()\n",
    "        plt.plot([xC1[0], xC2[0]],[yC1[0], yC2[0]], color='blue')\n",
    "    \n",
    "    x1 = dataFile[dataFile['Node_Sl_No.']==int(paths[i+1])]['x_Coordinate']\n",
    "    xC1 = x1.values.tolist()\n",
    "    y1 = dataFile[dataFile['Node_Sl_No.']==int(paths[i+1])]['y_Coordinate']\n",
    "    yC1 = y1.values.tolist()\n",
    "        \n",
    "    x2 = dataFile[dataFile['Node_Sl_No.']==int(paths[0])]['x_Coordinate']\n",
    "    xC2 = x2.values.tolist()\n",
    "    y2 = dataFile[dataFile['Node_Sl_No.']==int(paths[0])]['y_Coordinate']\n",
    "    yC2 = y2.values.tolist()\n",
    "    plt.plot([xC1[0], xC2[0]],[yC1[0], yC2[0]], color='blue')\n",
    "\n",
    "dataFile = pd.read_csv('Node_Coordinates.csv')\n",
    "pathFile1 = pd.read_csv('path1.CSV')\n",
    "#drawPath(pathFile1, 5, 42)\n"
   ]
  },
  {
   "cell_type": "code",
   "execution_count": null,
   "metadata": {},
   "outputs": [],
   "source": []
  },
  {
   "cell_type": "code",
   "execution_count": null,
   "metadata": {},
   "outputs": [],
   "source": []
  },
  {
   "cell_type": "code",
   "execution_count": null,
   "metadata": {},
   "outputs": [],
   "source": []
  },
  {
   "cell_type": "code",
   "execution_count": 5,
   "metadata": {},
   "outputs": [],
   "source": [
    "import pandas as pd\n",
    "import matplotlib.pyplot as plt\n",
    "paths = []\n",
    "def drawPath(pathFile, sn_x, sn_y):\n",
    "    for i in range(len(x_coor)):\n",
    "   # plt.plot(x_coor[i], y_coor[i], data=df, linestyle='-', color='blue', marker='^')\n",
    "        plt.scatter(x_coor[i], y_coor[i], color='blue', marker='o')\n",
    "        plt.text(x_coor[i], y_coor[i], i+1, fontsize=9)\n",
    "    #for i in range(len(users_X)):    \n",
    "    #plt.scatter(users_X[i], users_Y[i], color='orange', marker='s')\n",
    "#     plt.scatter(BS[0], BS[1], color='red', marker='o')\n",
    "\n",
    "\n",
    "#     plt.scatter(95, 58, color='orange', marker='o')\n",
    "#     plt.scatter(90, 95, color='orange', marker='o')\n",
    "#     plt.scatter(25, 15, color='orange', marker='o')\n",
    "    plt.scatter(sn_x,sn_y, color='red', marker='o')\n",
    "\n",
    "    plt.ylabel('Y-AXIS')\n",
    "    plt.xlabel('X-AXIS')\n",
    "\n",
    "    for i in range(len(pathFile)):\n",
    "        paths = pathFile['PATHS'][i]\n",
    "        paths = (paths.replace('[', ''))\n",
    "        paths = (paths.replace(']', ''))\n",
    "        paths = ((paths.split(', ')))\n",
    "    \n",
    "    print(paths)\n",
    "    for i in range(len(paths) - 1):\n",
    "        \n",
    "        x1 = dataFile_MESH[dataFile_MESH['Node_Sl_No.']==int(paths[i])]['x_Coordinate']\n",
    "        xC1 = x1.values.tolist()\n",
    "        y1 = dataFile_MESH[dataFile_MESH['Node_Sl_No.']==int(paths[i])]['y_Coordinate']\n",
    "        yC1 = y1.values.tolist()\n",
    "        \n",
    "        x2 = dataFile_MESH[dataFile_MESH['Node_Sl_No.']==int(paths[i+1])]['x_Coordinate']\n",
    "        xC2 = x2.values.tolist()\n",
    "        y2 = dataFile_MESH[dataFile_MESH['Node_Sl_No.']==int(paths[i+1])]['y_Coordinate']\n",
    "        yC2 = y2.values.tolist()\n",
    "        plt.plot([xC1[0], xC2[0]],[yC1[0], yC2[0]], color='blue')\n",
    "    \n",
    "    x1 = dataFile_MESH[dataFile_MESH['Node_Sl_No.']==int(paths[i+1])]['x_Coordinate']\n",
    "    xC1 = x1.values.tolist()\n",
    "    y1 = dataFile_MESH[dataFile_MESH['Node_Sl_No.']==int(paths[i+1])]['y_Coordinate']\n",
    "    yC1 = y1.values.tolist()\n",
    "        \n",
    "    x2 = dataFile_MESH[dataFile_MESH['Node_Sl_No.']==int(paths[0])]['x_Coordinate']\n",
    "    xC2 = x2.values.tolist()\n",
    "    y2 = dataFile_MESH[dataFile_MESH['Node_Sl_No.']==int(paths[0])]['y_Coordinate']\n",
    "    yC2 = y2.values.tolist()\n",
    "    plt.plot([xC1[0], xC2[0]],[yC1[0], yC2[0]], color='blue')\n",
    "\n",
    "dataFile_MESH = pd.read_csv('mesh/Node_Coordinates.csv')\n",
    "pathFile1_MESH = pd.read_csv('mesh/path1.csv')\n",
    "x_coor = [] \n",
    "y_coor = []\n",
    "for i in range(len(dataFile_MESH)):\n",
    "    x_coor.append(dataFile_MESH.loc[i, 'x_Coordinate'])\n",
    "for i in range(len(dataFile_MESH)):\n",
    "    y_coor.append(dataFile_MESH.loc[i, 'y_Coordinate'])\n",
    "\n"
   ]
  },
  {
   "cell_type": "code",
   "execution_count": null,
   "metadata": {},
   "outputs": [],
   "source": []
  },
  {
   "cell_type": "code",
   "execution_count": 6,
   "metadata": {},
   "outputs": [],
   "source": [
    "pathFile2_MESH = pd.read_csv('mesh/path13.csv')\n",
    "pathFile3_MESH = pd.read_csv('mesh/path17.csv')\n",
    "pathFile4_MESH = pd.read_csv('mesh/path29.csv')\n",
    "pathFile5_MESH = pd.read_csv('mesh/path34.csv')\n",
    "pathFile6_MESH = pd.read_csv('mesh/path38.csv')\n"
   ]
  },
  {
   "cell_type": "code",
   "execution_count": null,
   "metadata": {},
   "outputs": [],
   "source": []
  },
  {
   "cell_type": "code",
   "execution_count": null,
   "metadata": {},
   "outputs": [],
   "source": []
  },
  {
   "cell_type": "code",
   "execution_count": null,
   "metadata": {},
   "outputs": [],
   "source": []
  },
  {
   "cell_type": "code",
   "execution_count": null,
   "metadata": {},
   "outputs": [],
   "source": []
  },
  {
   "cell_type": "code",
   "execution_count": null,
   "metadata": {},
   "outputs": [],
   "source": []
  }
 ],
 "metadata": {
  "kernelspec": {
   "display_name": "Python 3",
   "language": "python",
   "name": "python3"
  },
  "language_info": {
   "codemirror_mode": {
    "name": "ipython",
    "version": 3
   },
   "file_extension": ".py",
   "mimetype": "text/x-python",
   "name": "python",
   "nbconvert_exporter": "python",
   "pygments_lexer": "ipython3",
   "version": "3.7.1"
  }
 },
 "nbformat": 4,
 "nbformat_minor": 2
}
